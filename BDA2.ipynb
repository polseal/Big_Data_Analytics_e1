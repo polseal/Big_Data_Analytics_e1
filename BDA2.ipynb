{
 "cells": [
  {
   "cell_type": "code",
   "execution_count": 278,
   "metadata": {
    "collapsed": true,
    "ExecuteTime": {
     "start_time": "2023-05-05T17:04:44.467763Z",
     "end_time": "2023-05-05T17:04:44.509074Z"
    }
   },
   "outputs": [],
   "source": [
    "import math\n",
    "import struct\n",
    "\n",
    "import pandas\n",
    "import matplotlib.pyplot as plt"
   ]
  },
  {
   "cell_type": "code",
   "execution_count": 279,
   "outputs": [
    {
     "name": "stderr",
     "output_type": "stream",
     "text": [
      "C:\\Users\\Admin\\AppData\\Local\\Temp\\ipykernel_8656\\2959035247.py:1: FutureWarning: The error_bad_lines argument has been deprecated and will be removed in a future version. Use on_bad_lines in the future.\n",
      "\n",
      "\n",
      "  df = pandas.read_csv(\"Input/dblp_names.csv\", error_bad_lines=False)\n",
      "Skipping line 164: expected 2 fields, saw 3\n",
      "Skipping line 281: expected 2 fields, saw 3\n",
      "Skipping line 512: expected 2 fields, saw 3\n",
      "Skipping line 839: expected 2 fields, saw 3\n",
      "Skipping line 854: expected 2 fields, saw 3\n",
      "Skipping line 1997: expected 2 fields, saw 3\n",
      "Skipping line 2631: expected 2 fields, saw 3\n",
      "Skipping line 2642: expected 2 fields, saw 3\n",
      "Skipping line 2656: expected 2 fields, saw 3\n",
      "Skipping line 2658: expected 2 fields, saw 3\n",
      "Skipping line 2659: expected 2 fields, saw 3\n",
      "Skipping line 6310: expected 2 fields, saw 3\n",
      "Skipping line 10753: expected 2 fields, saw 3\n",
      "Skipping line 11044: expected 2 fields, saw 3\n",
      "Skipping line 18510: expected 2 fields, saw 3\n",
      "Skipping line 31242: expected 2 fields, saw 3\n",
      "Skipping line 41259: expected 2 fields, saw 3\n",
      "Skipping line 41633: expected 2 fields, saw 3\n",
      "Skipping line 43561: expected 2 fields, saw 3\n",
      "Skipping line 43569: expected 2 fields, saw 3\n",
      "\n"
     ]
    }
   ],
   "source": [
    "df = pandas.read_csv(\"Input/dblp_names.csv\", error_bad_lines=False)"
   ],
   "metadata": {
    "collapsed": false,
    "ExecuteTime": {
     "start_time": "2023-05-05T17:04:44.467763Z",
     "end_time": "2023-05-05T17:04:44.513073Z"
    }
   }
  },
  {
   "cell_type": "code",
   "execution_count": 280,
   "outputs": [
    {
     "data": {
      "text/plain": "       # OLD_NAME                            NEW_NAME\ncount       45156                               45156\nunique      44844                               36032\ntop       Y. Choi  Alberto L. Sangiovanni-Vincentelli\nfreq            4                                   9",
      "text/html": "<div>\n<style scoped>\n    .dataframe tbody tr th:only-of-type {\n        vertical-align: middle;\n    }\n\n    .dataframe tbody tr th {\n        vertical-align: top;\n    }\n\n    .dataframe thead th {\n        text-align: right;\n    }\n</style>\n<table border=\"1\" class=\"dataframe\">\n  <thead>\n    <tr style=\"text-align: right;\">\n      <th></th>\n      <th># OLD_NAME</th>\n      <th>NEW_NAME</th>\n    </tr>\n  </thead>\n  <tbody>\n    <tr>\n      <th>count</th>\n      <td>45156</td>\n      <td>45156</td>\n    </tr>\n    <tr>\n      <th>unique</th>\n      <td>44844</td>\n      <td>36032</td>\n    </tr>\n    <tr>\n      <th>top</th>\n      <td>Y. Choi</td>\n      <td>Alberto L. Sangiovanni-Vincentelli</td>\n    </tr>\n    <tr>\n      <th>freq</th>\n      <td>4</td>\n      <td>9</td>\n    </tr>\n  </tbody>\n</table>\n</div>"
     },
     "execution_count": 280,
     "metadata": {},
     "output_type": "execute_result"
    }
   ],
   "source": [
    "df.describe()"
   ],
   "metadata": {
    "collapsed": false,
    "ExecuteTime": {
     "start_time": "2023-05-05T17:04:44.492069Z",
     "end_time": "2023-05-05T17:04:44.526695Z"
    }
   }
  },
  {
   "cell_type": "code",
   "execution_count": 281,
   "outputs": [],
   "source": [
    "df_test = df"
   ],
   "metadata": {
    "collapsed": false,
    "ExecuteTime": {
     "start_time": "2023-05-05T17:04:44.522854Z",
     "end_time": "2023-05-05T17:04:44.529694Z"
    }
   }
  },
  {
   "cell_type": "code",
   "execution_count": 282,
   "outputs": [],
   "source": [
    "def get_last_name(s: str) -> str:\n",
    "    bad_chars = [')', '(']\n",
    "    s = ''.join((filter(lambda i: i not in bad_chars, s)))\n",
    "    elements = s.strip().split(' ')\n",
    "    return elements[len(elements)-1]"
   ],
   "metadata": {
    "collapsed": false,
    "ExecuteTime": {
     "start_time": "2023-05-05T17:04:44.531195Z",
     "end_time": "2023-05-05T17:04:44.533709Z"
    }
   }
  },
  {
   "cell_type": "code",
   "execution_count": 283,
   "outputs": [],
   "source": [
    "def get_first_letter(s:str) -> str:\n",
    "    return s[0]"
   ],
   "metadata": {
    "collapsed": false,
    "ExecuteTime": {
     "start_time": "2023-05-05T17:04:44.533709Z",
     "end_time": "2023-05-05T17:04:44.565296Z"
    }
   }
  },
  {
   "cell_type": "code",
   "execution_count": 284,
   "outputs": [
    {
     "data": {
      "text/plain": "Index(['# OLD_NAME', ' NEW_NAME'], dtype='object')"
     },
     "execution_count": 284,
     "metadata": {},
     "output_type": "execute_result"
    }
   ],
   "source": [
    "df.columns"
   ],
   "metadata": {
    "collapsed": false,
    "ExecuteTime": {
     "start_time": "2023-05-05T17:04:44.536427Z",
     "end_time": "2023-05-05T17:04:44.574302Z"
    }
   }
  },
  {
   "cell_type": "code",
   "execution_count": 285,
   "outputs": [],
   "source": [
    "df_test['s1_old'] = df['# OLD_NAME'].apply(get_last_name)"
   ],
   "metadata": {
    "collapsed": false,
    "ExecuteTime": {
     "start_time": "2023-05-05T17:04:44.543302Z",
     "end_time": "2023-05-05T17:04:44.659561Z"
    }
   }
  },
  {
   "cell_type": "code",
   "execution_count": 286,
   "outputs": [],
   "source": [
    "def strategy2(s: str) -> str:\n",
    "    return get_first_letter(s) + get_first_letter(get_last_name(s))"
   ],
   "metadata": {
    "collapsed": false,
    "ExecuteTime": {
     "start_time": "2023-05-05T17:04:44.619743Z",
     "end_time": "2023-05-05T17:04:44.671560Z"
    }
   }
  },
  {
   "cell_type": "code",
   "execution_count": 287,
   "outputs": [],
   "source": [
    "df_test['s2_old'] = df_test['# OLD_NAME'].apply(strategy2)"
   ],
   "metadata": {
    "collapsed": false,
    "ExecuteTime": {
     "start_time": "2023-05-05T17:04:44.622563Z",
     "end_time": "2023-05-05T17:04:44.722671Z"
    }
   }
  },
  {
   "cell_type": "code",
   "execution_count": 288,
   "outputs": [],
   "source": [
    "df_test['s1_new'] = df_test[' NEW_NAME'].apply(get_last_name)\n",
    "df_test['s2_new'] = df_test[' NEW_NAME'].apply(strategy2)"
   ],
   "metadata": {
    "collapsed": false,
    "ExecuteTime": {
     "start_time": "2023-05-05T17:04:44.707149Z",
     "end_time": "2023-05-05T17:04:44.881835Z"
    }
   }
  },
  {
   "cell_type": "code",
   "execution_count": 289,
   "outputs": [],
   "source": [
    "import numpy as np\n",
    "\n",
    "df_test['matching_s1'] = np.where((df['s1_new'] == df['s1_old']), True, False)\n",
    "df_test['matching_s2'] = np.where((df['s2_new'] == df['s2_old']), True, False)"
   ],
   "metadata": {
    "collapsed": false,
    "ExecuteTime": {
     "start_time": "2023-05-05T17:04:44.882840Z",
     "end_time": "2023-05-05T17:04:44.893364Z"
    }
   }
  },
  {
   "cell_type": "code",
   "execution_count": 290,
   "outputs": [
    {
     "data": {
      "text/plain": "               # OLD_NAME                NEW_NAME           s1_old s2_old  \\\n0       Bamshad Mobasherm        Bamshad Mobasher        Mobasherm     BM   \n1  Carole Delporte-Gellet  Carole Delporte-Gallet  Delporte-Gellet     CD   \n2     Ronald Presott Loui    Ronald Prescott Loui             Loui     RL   \n3              Eve Riskin           Eve A. Riskin           Riskin     ER   \n4       Doouglas W. Clark        Douglas W. Clark            Clark     DC   \n\n            s1_new s2_new  matching_s1  matching_s2  \n0         Mobasher     BM        False         True  \n1  Delporte-Gallet     CD        False         True  \n2             Loui     RL         True         True  \n3           Riskin     ER         True         True  \n4            Clark     DC         True         True  ",
      "text/html": "<div>\n<style scoped>\n    .dataframe tbody tr th:only-of-type {\n        vertical-align: middle;\n    }\n\n    .dataframe tbody tr th {\n        vertical-align: top;\n    }\n\n    .dataframe thead th {\n        text-align: right;\n    }\n</style>\n<table border=\"1\" class=\"dataframe\">\n  <thead>\n    <tr style=\"text-align: right;\">\n      <th></th>\n      <th># OLD_NAME</th>\n      <th>NEW_NAME</th>\n      <th>s1_old</th>\n      <th>s2_old</th>\n      <th>s1_new</th>\n      <th>s2_new</th>\n      <th>matching_s1</th>\n      <th>matching_s2</th>\n    </tr>\n  </thead>\n  <tbody>\n    <tr>\n      <th>0</th>\n      <td>Bamshad Mobasherm</td>\n      <td>Bamshad Mobasher</td>\n      <td>Mobasherm</td>\n      <td>BM</td>\n      <td>Mobasher</td>\n      <td>BM</td>\n      <td>False</td>\n      <td>True</td>\n    </tr>\n    <tr>\n      <th>1</th>\n      <td>Carole Delporte-Gellet</td>\n      <td>Carole Delporte-Gallet</td>\n      <td>Delporte-Gellet</td>\n      <td>CD</td>\n      <td>Delporte-Gallet</td>\n      <td>CD</td>\n      <td>False</td>\n      <td>True</td>\n    </tr>\n    <tr>\n      <th>2</th>\n      <td>Ronald Presott Loui</td>\n      <td>Ronald Prescott Loui</td>\n      <td>Loui</td>\n      <td>RL</td>\n      <td>Loui</td>\n      <td>RL</td>\n      <td>True</td>\n      <td>True</td>\n    </tr>\n    <tr>\n      <th>3</th>\n      <td>Eve Riskin</td>\n      <td>Eve A. Riskin</td>\n      <td>Riskin</td>\n      <td>ER</td>\n      <td>Riskin</td>\n      <td>ER</td>\n      <td>True</td>\n      <td>True</td>\n    </tr>\n    <tr>\n      <th>4</th>\n      <td>Doouglas W. Clark</td>\n      <td>Douglas W. Clark</td>\n      <td>Clark</td>\n      <td>DC</td>\n      <td>Clark</td>\n      <td>DC</td>\n      <td>True</td>\n      <td>True</td>\n    </tr>\n  </tbody>\n</table>\n</div>"
     },
     "execution_count": 290,
     "metadata": {},
     "output_type": "execute_result"
    }
   ],
   "source": [
    "df_test.head()"
   ],
   "metadata": {
    "collapsed": false,
    "ExecuteTime": {
     "start_time": "2023-05-05T17:04:44.894363Z",
     "end_time": "2023-05-05T17:04:44.901176Z"
    }
   }
  },
  {
   "cell_type": "code",
   "execution_count": 291,
   "outputs": [
    {
     "data": {
      "text/plain": "True     0.763221\nFalse    0.236779\nName: matching_s1, dtype: float64"
     },
     "execution_count": 291,
     "metadata": {},
     "output_type": "execute_result"
    }
   ],
   "source": [
    "df_test['matching_s1'].value_counts()/len(df_test['# OLD_NAME'])"
   ],
   "metadata": {
    "collapsed": false,
    "ExecuteTime": {
     "start_time": "2023-05-05T17:04:44.905179Z",
     "end_time": "2023-05-05T17:04:44.922218Z"
    }
   }
  },
  {
   "cell_type": "code",
   "execution_count": 292,
   "outputs": [
    {
     "data": {
      "text/plain": "True     0.905372\nFalse    0.094628\nName: matching_s2, dtype: float64"
     },
     "execution_count": 292,
     "metadata": {},
     "output_type": "execute_result"
    }
   ],
   "source": [
    "df_test['matching_s2'].value_counts()/len(df_test['# OLD_NAME'])"
   ],
   "metadata": {
    "collapsed": false,
    "ExecuteTime": {
     "start_time": "2023-05-05T17:04:44.909997Z",
     "end_time": "2023-05-05T17:04:44.923246Z"
    }
   }
  },
  {
   "cell_type": "code",
   "execution_count": 293,
   "outputs": [],
   "source": [
    "def function_to_calculate_save(df: pandas.DataFrame):\n",
    "    n_pairs_before = (45156 * (45156 - 1)) / 2\n",
    "    n_pairs_after = 0\n",
    "    for first, second in df.iterrows():\n",
    "        n_pairs_in_block = (second.iloc[-1] * (second.iloc[-1]- 1)) / 2\n",
    "        n_pairs_after += n_pairs_in_block\n",
    "\n",
    "    # Calculate Save for the blocking strategy\n",
    "    save = 1 - (n_pairs_after / n_pairs_before)\n",
    "    return save"
   ],
   "metadata": {
    "collapsed": false,
    "ExecuteTime": {
     "start_time": "2023-05-05T17:04:44.917834Z",
     "end_time": "2023-05-05T17:04:44.940240Z"
    }
   }
  },
  {
   "cell_type": "code",
   "execution_count": 294,
   "outputs": [],
   "source": [
    "df_combined = pandas.concat([df_test['s1_old'], df_test['s1_new']])\n",
    "df_s1 = pandas.DataFrame(df_combined.value_counts())"
   ],
   "metadata": {
    "collapsed": false,
    "ExecuteTime": {
     "start_time": "2023-05-05T17:04:44.922218Z",
     "end_time": "2023-05-05T17:04:44.972241Z"
    }
   }
  },
  {
   "cell_type": "code",
   "execution_count": 295,
   "outputs": [],
   "source": [
    "save = function_to_calculate_save(df_s1)"
   ],
   "metadata": {
    "collapsed": false,
    "ExecuteTime": {
     "start_time": "2023-05-05T17:04:44.942241Z",
     "end_time": "2023-05-05T17:04:46.000719Z"
    }
   }
  },
  {
   "cell_type": "code",
   "execution_count": 296,
   "outputs": [
    {
     "data": {
      "text/plain": "0.9984685960629365"
     },
     "execution_count": 296,
     "metadata": {},
     "output_type": "execute_result"
    }
   ],
   "source": [
    "save"
   ],
   "metadata": {
    "collapsed": false,
    "ExecuteTime": {
     "start_time": "2023-05-05T17:04:46.001722Z",
     "end_time": "2023-05-05T17:04:46.006733Z"
    }
   }
  },
  {
   "cell_type": "code",
   "execution_count": 297,
   "outputs": [],
   "source": [
    "df_combined = pandas.concat([df_test['s2_old'], df_test['s2_new']])\n",
    "df_s2 = pandas.DataFrame(df_combined.value_counts())\n",
    "save = function_to_calculate_save(df_s2)"
   ],
   "metadata": {
    "collapsed": false,
    "ExecuteTime": {
     "start_time": "2023-05-05T17:04:46.007730Z",
     "end_time": "2023-05-05T17:04:46.055499Z"
    }
   }
  },
  {
   "cell_type": "code",
   "execution_count": 298,
   "outputs": [
    {
     "data": {
      "text/plain": "0.9867491624085655"
     },
     "execution_count": 298,
     "metadata": {},
     "output_type": "execute_result"
    }
   ],
   "source": [
    "save"
   ],
   "metadata": {
    "collapsed": false,
    "ExecuteTime": {
     "start_time": "2023-05-05T17:04:46.056498Z",
     "end_time": "2023-05-05T17:04:46.061381Z"
    }
   }
  },
  {
   "cell_type": "markdown",
   "source": [
    "The results differ because s2 has a broader criteria for adding a name to a block compared to the s1. It leads to a higher recall, since there is a higher possibility for a name to be put into the same block.\n",
    "The first one has a stricter selection criteria and the probability to end up in a particular block is lower. It leads to a smaller recall."
   ],
   "metadata": {
    "collapsed": false
   }
  },
  {
   "cell_type": "markdown",
   "source": [
    "Save is high in both cases. Yet, the save of the s2 is slightly smaller. We think it's because larger blocks lead to smaller savings in the number of similarity computations. This might be because there are more pairs of mentions that need to be compared for similarity."
   ],
   "metadata": {
    "collapsed": false
   }
  },
  {
   "cell_type": "markdown",
   "source": [
    "We would prefer the strategy s1."
   ],
   "metadata": {
    "collapsed": false
   }
  },
  {
   "cell_type": "markdown",
   "source": [
    "Two possible properties that can affect the strategies are the distribution of the names and the variation of names in terms of spelling or formatting. A low variation in names would lead to fewer blocks being created, as more names get put into the same block leading to lower saves. For the variation of names it would be bad if the names between old and new names are formatted or spelled very differently, as this might lead to names being put into different blocks which results in a lower recall."
   ],
   "metadata": {
    "collapsed": false
   }
  }
 ],
 "metadata": {
  "kernelspec": {
   "display_name": "Python 3",
   "language": "python",
   "name": "python3"
  },
  "language_info": {
   "codemirror_mode": {
    "name": "ipython",
    "version": 2
   },
   "file_extension": ".py",
   "mimetype": "text/x-python",
   "name": "python",
   "nbconvert_exporter": "python",
   "pygments_lexer": "ipython2",
   "version": "2.7.6"
  }
 },
 "nbformat": 4,
 "nbformat_minor": 0
}
