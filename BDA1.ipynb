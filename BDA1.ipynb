{
 "cells": [
  {
   "cell_type": "markdown",
   "source": [
    "Task 1"
   ],
   "metadata": {
    "collapsed": false
   }
  },
  {
   "cell_type": "code",
   "execution_count": 8,
   "outputs": [],
   "source": [
    "import math\n",
    "import pandas\n",
    "import matplotlib.pyplot as plt"
   ],
   "metadata": {
    "collapsed": false,
    "ExecuteTime": {
     "start_time": "2023-05-02T16:59:44.806575Z",
     "end_time": "2023-05-02T16:59:44.865405Z"
    }
   }
  },
  {
   "cell_type": "code",
   "execution_count": 9,
   "outputs": [],
   "source": [
    "df = pandas.read_csv(\"Input/publTitles.csv\")"
   ],
   "metadata": {
    "collapsed": false,
    "ExecuteTime": {
     "start_time": "2023-05-02T16:59:44.811750Z",
     "end_time": "2023-05-02T16:59:45.940211Z"
    }
   }
  },
  {
   "cell_type": "code",
   "execution_count": 10,
   "outputs": [
    {
     "data": {
      "text/plain": "                #PUBLICATION_ID  TITLE_LENGTH  \\\n0      books/acm/17/JamesLSCO17            52   \n1  books/acm/17/KatsamanisPTM17            31   \n2      books/acm/17/MacLeanSS17            79   \n3       books/acm/17/OSCSPK2017           122   \n4          books/acm/18/0001A18            95   \n\n                                               TITLE  \n0  Perspectives on learning with multimodal techn...  \n1                    Multimodal gesture recognition.  \n2  Multisensory haptic interactions: understandin...  \n3  The Handbook of Multimodal-Multisensor Interfa...  \n4  Real-time sensing of affect and social signals...  ",
      "text/html": "<div>\n<style scoped>\n    .dataframe tbody tr th:only-of-type {\n        vertical-align: middle;\n    }\n\n    .dataframe tbody tr th {\n        vertical-align: top;\n    }\n\n    .dataframe thead th {\n        text-align: right;\n    }\n</style>\n<table border=\"1\" class=\"dataframe\">\n  <thead>\n    <tr style=\"text-align: right;\">\n      <th></th>\n      <th>#PUBLICATION_ID</th>\n      <th>TITLE_LENGTH</th>\n      <th>TITLE</th>\n    </tr>\n  </thead>\n  <tbody>\n    <tr>\n      <th>0</th>\n      <td>books/acm/17/JamesLSCO17</td>\n      <td>52</td>\n      <td>Perspectives on learning with multimodal techn...</td>\n    </tr>\n    <tr>\n      <th>1</th>\n      <td>books/acm/17/KatsamanisPTM17</td>\n      <td>31</td>\n      <td>Multimodal gesture recognition.</td>\n    </tr>\n    <tr>\n      <th>2</th>\n      <td>books/acm/17/MacLeanSS17</td>\n      <td>79</td>\n      <td>Multisensory haptic interactions: understandin...</td>\n    </tr>\n    <tr>\n      <th>3</th>\n      <td>books/acm/17/OSCSPK2017</td>\n      <td>122</td>\n      <td>The Handbook of Multimodal-Multisensor Interfa...</td>\n    </tr>\n    <tr>\n      <th>4</th>\n      <td>books/acm/18/0001A18</td>\n      <td>95</td>\n      <td>Real-time sensing of affect and social signals...</td>\n    </tr>\n  </tbody>\n</table>\n</div>"
     },
     "execution_count": 10,
     "metadata": {},
     "output_type": "execute_result"
    }
   ],
   "source": [
    "df.head()"
   ],
   "metadata": {
    "collapsed": false,
    "ExecuteTime": {
     "start_time": "2023-05-02T16:59:45.940211Z",
     "end_time": "2023-05-02T16:59:45.953296Z"
    }
   }
  },
  {
   "cell_type": "code",
   "execution_count": 11,
   "outputs": [
    {
     "name": "stdout",
     "output_type": "stream",
     "text": [
      "count    521289.000000\n",
      "mean         75.298717\n",
      "std          31.819131\n",
      "min           1.000000\n",
      "25%          56.000000\n",
      "50%          75.000000\n",
      "75%          93.000000\n",
      "max        1362.000000\n",
      "Name: TITLE_LENGTH, dtype: float64\n"
     ]
    }
   ],
   "source": [
    "print(df['TITLE_LENGTH'].describe())"
   ],
   "metadata": {
    "collapsed": false,
    "ExecuteTime": {
     "start_time": "2023-05-02T16:59:45.955360Z",
     "end_time": "2023-05-02T16:59:46.076491Z"
    }
   }
  },
  {
   "cell_type": "code",
   "execution_count": 12,
   "outputs": [
    {
     "data": {
      "text/plain": "Text(0.5, 1.0, 'Box plot of TITLE_LENGTH')"
     },
     "execution_count": 12,
     "metadata": {},
     "output_type": "execute_result"
    },
    {
     "data": {
      "text/plain": "<Figure size 640x480 with 1 Axes>",
      "image/png": "[encoded data removed]"
     },
     "metadata": {},
     "output_type": "display_data"
    }
   ],
   "source": [
    "plt.boxplot(df['TITLE_LENGTH'])\n",
    "plt.title('Box plot of {}'.format('TITLE_LENGTH'))"
   ],
   "metadata": {
    "collapsed": false,
    "ExecuteTime": {
     "start_time": "2023-05-02T16:59:46.013975Z",
     "end_time": "2023-05-02T16:59:46.277857Z"
    }
   }
  },
  {
   "cell_type": "markdown",
   "source": [
    "In the dataset, we noticed there is a high concentration around the mean. But also, there are many outliers."
   ],
   "metadata": {
    "collapsed": false
   }
  },
  {
   "cell_type": "markdown",
   "source": [
    "Task 2"
   ],
   "metadata": {
    "collapsed": false
   }
  },
  {
   "cell_type": "markdown",
   "source": [
    "To investigate the patterns with the dataset, we used multiple bins options to identify potential anomalies. The anomalies are viisble on small bins size like 10, but starting 200 they appear to the sight.\n",
    "\n",
    "As a scientific ground we used the Sturge's rule, but the number of bins was only 20 which gave us an unsatisfactory result. We decided to process with 500 bins.\n",
    "\n"
   ],
   "metadata": {
    "collapsed": false
   }
  },
  {
   "cell_type": "code",
   "execution_count": 13,
   "outputs": [
    {
     "name": "stdout",
     "output_type": "stream",
     "text": [
      "20\n"
     ]
    }
   ],
   "source": [
    "print(1+round(math.log2(df['TITLE_LENGTH'].count())))"
   ],
   "metadata": {
    "collapsed": false,
    "ExecuteTime": {
     "start_time": "2023-05-02T16:59:46.276269Z",
     "end_time": "2023-05-02T16:59:46.284132Z"
    }
   }
  },
  {
   "cell_type": "code",
   "execution_count": 14,
   "outputs": [
    {
     "data": {
      "text/plain": "(0.0, 25000.0)"
     },
     "execution_count": 14,
     "metadata": {},
     "output_type": "execute_result"
    },
    {
     "data": {
      "text/plain": "<Figure size 640x480 with 1 Axes>",
      "image/png": "[encoded data removed]"
     },
     "metadata": {},
     "output_type": "display_data"
    }
   ],
   "source": [
    "plt.hist(df['TITLE_LENGTH'], bins=500, color='blue')\n",
    "plt.xlabel('TITLE_LENGTH')\n",
    "plt.ylabel('Frequency')\n",
    "plt.title('Histogram')\n",
    "plt.xlim(0, 1300)\n",
    "plt.ylim(0, 25000)"
   ],
   "metadata": {
    "collapsed": false,
    "ExecuteTime": {
     "start_time": "2023-05-02T16:59:46.282092Z",
     "end_time": "2023-05-02T16:59:46.987839Z"
    }
   }
  },
  {
   "cell_type": "markdown",
   "source": [
    "The column in the beginning looks suspecious."
   ],
   "metadata": {
    "collapsed": false
   }
  },
  {
   "cell_type": "code",
   "execution_count": 15,
   "outputs": [
    {
     "data": {
      "text/plain": "(0.0, 25000.0)"
     },
     "execution_count": 15,
     "metadata": {},
     "output_type": "execute_result"
    },
    {
     "data": {
      "text/plain": "<Figure size 640x480 with 1 Axes>",
      "image/png": "[encoded data removed]"
     },
     "metadata": {},
     "output_type": "display_data"
    }
   ],
   "source": [
    "plt.hist(df['TITLE_LENGTH'], bins=500, color='blue')\n",
    "plt.xlabel('TITLE_LENGTH')\n",
    "plt.ylabel('Frequency')\n",
    "plt.xlim(0, 10)\n",
    "plt.ylim(0, 25000)"
   ],
   "metadata": {
    "collapsed": false,
    "ExecuteTime": {
     "start_time": "2023-05-02T16:59:46.992440Z",
     "end_time": "2023-05-02T16:59:47.606150Z"
    }
   }
  },
  {
   "cell_type": "markdown",
   "source": [
    "We zoom in to see what values are unusually distributed."
   ],
   "metadata": {
    "collapsed": false
   }
  },
  {
   "cell_type": "code",
   "execution_count": 16,
   "outputs": [
    {
     "data": {
      "text/plain": "16322"
     },
     "execution_count": 16,
     "metadata": {},
     "output_type": "execute_result"
    }
   ],
   "source": [
    "count = ((df['TITLE_LENGTH'] >= 4) & (df['TITLE_LENGTH'] <= 7)).sum()\n",
    "count"
   ],
   "metadata": {
    "collapsed": false,
    "ExecuteTime": {
     "start_time": "2023-05-02T16:59:47.606150Z",
     "end_time": "2023-05-02T16:59:47.616169Z"
    }
   }
  },
  {
   "cell_type": "code",
   "execution_count": 17,
   "outputs": [
    {
     "data": {
      "text/plain": "                    #PUBLICATION_ID  TITLE_LENGTH    TITLE\n21          books/ams/04/Trevisan04             4      NaN\n30       books/ap/91/MontefuscoGP91             4      NaN\n46          books/aw/Baeza-YatesR99             4      NaN\n77          books/crc/13/GarciaS13b             7  Towers.\n136    books/crc/tucker97/Caughey97             4      NaN\n...                             ...           ...      ...\n64539         conf/dihu/QueirozBP16             4      NaN\n64545          conf/dihu/RidgeCPK14             4      NaN\n64554        conf/dihu/SakamotoVW18             4      NaN\n64562            conf/dihu/Schulz20             4      NaN\n64563            conf/dihu/Schulz20             4      NaN\n\n[2000 rows x 3 columns]",
      "text/html": "<div>\n<style scoped>\n    .dataframe tbody tr th:only-of-type {\n        vertical-align: middle;\n    }\n\n    .dataframe tbody tr th {\n        vertical-align: top;\n    }\n\n    .dataframe thead th {\n        text-align: right;\n    }\n</style>\n<table border=\"1\" class=\"dataframe\">\n  <thead>\n    <tr style=\"text-align: right;\">\n      <th></th>\n      <th>#PUBLICATION_ID</th>\n      <th>TITLE_LENGTH</th>\n      <th>TITLE</th>\n    </tr>\n  </thead>\n  <tbody>\n    <tr>\n      <th>21</th>\n      <td>books/ams/04/Trevisan04</td>\n      <td>4</td>\n      <td>NaN</td>\n    </tr>\n    <tr>\n      <th>30</th>\n      <td>books/ap/91/MontefuscoGP91</td>\n      <td>4</td>\n      <td>NaN</td>\n    </tr>\n    <tr>\n      <th>46</th>\n      <td>books/aw/Baeza-YatesR99</td>\n      <td>4</td>\n      <td>NaN</td>\n    </tr>\n    <tr>\n      <th>77</th>\n      <td>books/crc/13/GarciaS13b</td>\n      <td>7</td>\n      <td>Towers.</td>\n    </tr>\n    <tr>\n      <th>136</th>\n      <td>books/crc/tucker97/Caughey97</td>\n      <td>4</td>\n      <td>NaN</td>\n    </tr>\n    <tr>\n      <th>...</th>\n      <td>...</td>\n      <td>...</td>\n      <td>...</td>\n    </tr>\n    <tr>\n      <th>64539</th>\n      <td>conf/dihu/QueirozBP16</td>\n      <td>4</td>\n      <td>NaN</td>\n    </tr>\n    <tr>\n      <th>64545</th>\n      <td>conf/dihu/RidgeCPK14</td>\n      <td>4</td>\n      <td>NaN</td>\n    </tr>\n    <tr>\n      <th>64554</th>\n      <td>conf/dihu/SakamotoVW18</td>\n      <td>4</td>\n      <td>NaN</td>\n    </tr>\n    <tr>\n      <th>64562</th>\n      <td>conf/dihu/Schulz20</td>\n      <td>4</td>\n      <td>NaN</td>\n    </tr>\n    <tr>\n      <th>64563</th>\n      <td>conf/dihu/Schulz20</td>\n      <td>4</td>\n      <td>NaN</td>\n    </tr>\n  </tbody>\n</table>\n<p>2000 rows × 3 columns</p>\n</div>"
     },
     "execution_count": 17,
     "metadata": {},
     "output_type": "execute_result"
    }
   ],
   "source": [
    "df[(df['TITLE_LENGTH'] >= 4) & (df['TITLE_LENGTH'] <= 7)].head(2000)"
   ],
   "metadata": {
    "collapsed": false,
    "ExecuteTime": {
     "start_time": "2023-05-02T16:59:47.619259Z",
     "end_time": "2023-05-02T16:59:47.706452Z"
    }
   }
  },
  {
   "cell_type": "code",
   "execution_count": 18,
   "outputs": [],
   "source": [
    "removed_47 = df[(df['TITLE_LENGTH'] > 4) & (df['TITLE_LENGTH'] > 7)]"
   ],
   "metadata": {
    "collapsed": false,
    "ExecuteTime": {
     "start_time": "2023-05-02T16:59:47.670655Z",
     "end_time": "2023-05-02T16:59:47.706452Z"
    }
   }
  },
  {
   "cell_type": "code",
   "execution_count": 19,
   "outputs": [
    {
     "data": {
      "text/plain": "                  #PUBLICATION_ID  TITLE_LENGTH  \\\n0        books/acm/17/JamesLSCO17            52   \n1    books/acm/17/KatsamanisPTM17            31   \n2        books/acm/17/MacLeanSS17            79   \n3         books/acm/17/OSCSPK2017           122   \n4            books/acm/18/0001A18            95   \n..                            ...           ...   \n206          books/daglib/0000757            37   \n207          books/daglib/0000781            59   \n208          books/daglib/0001083            91   \n209          books/daglib/0001189            86   \n210          books/daglib/0001201            49   \n\n                                                 TITLE  \n0    Perspectives on learning with multimodal techn...  \n1                      Multimodal gesture recognition.  \n2    Multisensory haptic interactions: understandin...  \n3    The Handbook of Multimodal-Multisensor Interfa...  \n4    Real-time sensing of affect and social signals...  \n..                                                 ...  \n206              PHP pocket reference - web scripting.  \n207  Bugs in writing - a guide to debugging your pr...  \n208  Numerische Mathematik mit Matlab - eine Einfüh...  \n209  Computergrafik und Farbmetrik - Farbsysteme, P...  \n210  Random processes for image and signal processing.  \n\n[200 rows x 3 columns]",
      "text/html": "<div>\n<style scoped>\n    .dataframe tbody tr th:only-of-type {\n        vertical-align: middle;\n    }\n\n    .dataframe tbody tr th {\n        vertical-align: top;\n    }\n\n    .dataframe thead th {\n        text-align: right;\n    }\n</style>\n<table border=\"1\" class=\"dataframe\">\n  <thead>\n    <tr style=\"text-align: right;\">\n      <th></th>\n      <th>#PUBLICATION_ID</th>\n      <th>TITLE_LENGTH</th>\n      <th>TITLE</th>\n    </tr>\n  </thead>\n  <tbody>\n    <tr>\n      <th>0</th>\n      <td>books/acm/17/JamesLSCO17</td>\n      <td>52</td>\n      <td>Perspectives on learning with multimodal techn...</td>\n    </tr>\n    <tr>\n      <th>1</th>\n      <td>books/acm/17/KatsamanisPTM17</td>\n      <td>31</td>\n      <td>Multimodal gesture recognition.</td>\n    </tr>\n    <tr>\n      <th>2</th>\n      <td>books/acm/17/MacLeanSS17</td>\n      <td>79</td>\n      <td>Multisensory haptic interactions: understandin...</td>\n    </tr>\n    <tr>\n      <th>3</th>\n      <td>books/acm/17/OSCSPK2017</td>\n      <td>122</td>\n      <td>The Handbook of Multimodal-Multisensor Interfa...</td>\n    </tr>\n    <tr>\n      <th>4</th>\n      <td>books/acm/18/0001A18</td>\n      <td>95</td>\n      <td>Real-time sensing of affect and social signals...</td>\n    </tr>\n    <tr>\n      <th>...</th>\n      <td>...</td>\n      <td>...</td>\n      <td>...</td>\n    </tr>\n    <tr>\n      <th>206</th>\n      <td>books/daglib/0000757</td>\n      <td>37</td>\n      <td>PHP pocket reference - web scripting.</td>\n    </tr>\n    <tr>\n      <th>207</th>\n      <td>books/daglib/0000781</td>\n      <td>59</td>\n      <td>Bugs in writing - a guide to debugging your pr...</td>\n    </tr>\n    <tr>\n      <th>208</th>\n      <td>books/daglib/0001083</td>\n      <td>91</td>\n      <td>Numerische Mathematik mit Matlab - eine Einfüh...</td>\n    </tr>\n    <tr>\n      <th>209</th>\n      <td>books/daglib/0001189</td>\n      <td>86</td>\n      <td>Computergrafik und Farbmetrik - Farbsysteme, P...</td>\n    </tr>\n    <tr>\n      <th>210</th>\n      <td>books/daglib/0001201</td>\n      <td>49</td>\n      <td>Random processes for image and signal processing.</td>\n    </tr>\n  </tbody>\n</table>\n<p>200 rows × 3 columns</p>\n</div>"
     },
     "execution_count": 19,
     "metadata": {},
     "output_type": "execute_result"
    }
   ],
   "source": [
    "removed_47.head(200)"
   ],
   "metadata": {
    "collapsed": false,
    "ExecuteTime": {
     "start_time": "2023-05-02T16:59:47.697866Z",
     "end_time": "2023-05-02T16:59:47.706452Z"
    }
   }
  },
  {
   "cell_type": "code",
   "execution_count": 20,
   "outputs": [
    {
     "data": {
      "text/plain": "(0.0, 25000.0)"
     },
     "execution_count": 20,
     "metadata": {},
     "output_type": "execute_result"
    },
    {
     "data": {
      "text/plain": "<Figure size 640x480 with 1 Axes>",
      "image/png": "[encoded data removed]"
     },
     "metadata": {},
     "output_type": "display_data"
    }
   ],
   "source": [
    "plt.hist(removed_47['TITLE_LENGTH'], bins=500, color='blue')\n",
    "plt.xlabel('TITLE_LENGTH')\n",
    "plt.ylabel('Frequency')\n",
    "plt.xlim(0, 300)\n",
    "plt.ylim(0, 25000)"
   ],
   "metadata": {
    "collapsed": false,
    "ExecuteTime": {
     "start_time": "2023-05-02T16:59:47.706452Z",
     "end_time": "2023-05-02T16:59:48.398903Z"
    }
   }
  },
  {
   "cell_type": "markdown",
   "source": [
    "There are soome outliers which are located outsidie of the normal distribution's body."
   ],
   "metadata": {
    "collapsed": false
   }
  },
  {
   "cell_type": "code",
   "execution_count": 21,
   "outputs": [
    {
     "name": "stdout",
     "output_type": "stream",
     "text": [
      "count    504903.000000\n",
      "mean         77.611945\n",
      "std          29.581752\n",
      "min           8.000000\n",
      "25%          58.000000\n",
      "50%          76.000000\n",
      "75%          94.000000\n",
      "max        1362.000000\n",
      "Name: TITLE_LENGTH, dtype: float64\n"
     ]
    }
   ],
   "source": [
    "print(removed_47['TITLE_LENGTH'].describe())"
   ],
   "metadata": {
    "collapsed": false,
    "ExecuteTime": {
     "start_time": "2023-05-02T16:59:48.398903Z",
     "end_time": "2023-05-02T16:59:48.494036Z"
    }
   }
  },
  {
   "cell_type": "code",
   "execution_count": 22,
   "outputs": [
    {
     "name": "stdout",
     "output_type": "stream",
     "text": [
      "Highest allowed 166.35720129778088\n",
      "Lowest allowed 0\n"
     ]
    }
   ],
   "source": [
    "a=removed_47['TITLE_LENGTH'].mean() + 3*removed_47['TITLE_LENGTH'].std()\n",
    "b=max(0,removed_47['TITLE_LENGTH'].mean() - 3*removed_47['TITLE_LENGTH'].std())\n",
    "print('Highest allowed {}'.format(a))\n",
    "print('Lowest allowed {}'.format(b))"
   ],
   "metadata": {
    "collapsed": false,
    "ExecuteTime": {
     "start_time": "2023-05-02T16:59:48.422649Z",
     "end_time": "2023-05-02T16:59:48.507817Z"
    }
   }
  },
  {
   "cell_type": "code",
   "execution_count": 30,
   "outputs": [
    {
     "data": {
      "text/plain": "4032"
     },
     "execution_count": 30,
     "metadata": {},
     "output_type": "execute_result"
    }
   ],
   "source": [
    "count = (removed_47['TITLE_LENGTH'] >= a).sum()\n",
    "count"
   ],
   "metadata": {
    "collapsed": false,
    "ExecuteTime": {
     "start_time": "2023-05-02T17:03:55.543542Z",
     "end_time": "2023-05-02T17:03:55.567071Z"
    }
   }
  },
  {
   "cell_type": "code",
   "execution_count": 24,
   "outputs": [],
   "source": [
    "within_range = removed_47[(removed_47['TITLE_LENGTH'] >= b) & (removed_47['TITLE_LENGTH'] <= a)]"
   ],
   "metadata": {
    "collapsed": false,
    "ExecuteTime": {
     "start_time": "2023-05-02T16:59:48.478375Z",
     "end_time": "2023-05-02T16:59:48.507817Z"
    }
   }
  },
  {
   "cell_type": "code",
   "execution_count": 25,
   "outputs": [
    {
     "data": {
      "text/plain": "(0.0, 15000.0)"
     },
     "execution_count": 25,
     "metadata": {},
     "output_type": "execute_result"
    },
    {
     "data": {
      "text/plain": "<Figure size 640x480 with 1 Axes>",
      "image/png": "[encoded data removed]"
     },
     "metadata": {},
     "output_type": "display_data"
    }
   ],
   "source": [
    "plt.hist(within_range['TITLE_LENGTH'], bins=500, color='blue')\n",
    "plt.xlabel('TITLE_LENGTH')\n",
    "plt.ylabel('Frequency')\n",
    "plt.xlim(0, 250)\n",
    "plt.ylim(0, 15000)"
   ],
   "metadata": {
    "collapsed": false,
    "ExecuteTime": {
     "start_time": "2023-05-02T16:59:48.523455Z",
     "end_time": "2023-05-02T16:59:49.098886Z"
    }
   }
  },
  {
   "cell_type": "code",
   "execution_count": 26,
   "outputs": [
    {
     "name": "stdout",
     "output_type": "stream",
     "text": [
      "count    500871.000000\n",
      "mean         76.600893\n",
      "std          26.950733\n",
      "min           8.000000\n",
      "25%          58.000000\n",
      "50%          75.000000\n",
      "75%          93.000000\n",
      "max         166.000000\n",
      "Name: TITLE_LENGTH, dtype: float64\n"
     ]
    }
   ],
   "source": [
    "print(within_range['TITLE_LENGTH'].describe())"
   ],
   "metadata": {
    "collapsed": false,
    "ExecuteTime": {
     "start_time": "2023-05-02T16:59:49.098886Z",
     "end_time": "2023-05-02T16:59:49.208956Z"
    }
   }
  },
  {
   "cell_type": "code",
   "execution_count": 27,
   "outputs": [
    {
     "data": {
      "text/plain": "               #PUBLICATION_ID  TITLE_LENGTH  \\\n0     books/acm/17/JamesLSCO17            52   \n2     books/acm/17/MacLeanSS17            79   \n4         books/acm/18/0001A18            95   \n7    books/acm/19/KirchnerFK19            99   \n8      books/acm/19/Lamport19a            60   \n..                         ...           ...   \n320       books/daglib/0010661            45   \n321       books/daglib/0010681            41   \n322       books/daglib/0010682            76   \n323       books/daglib/0010865            66   \n324       books/daglib/0010893            84   \n\n                                                 TITLE  \n0    Perspectives on learning with multimodal techn...  \n2    Multisensory haptic interactions: understandin...  \n4    Real-time sensing of affect and social signals...  \n7    Embedded multimodal interfaces in robotics: ap...  \n8    A new solution of Dijkstra's concurrent progra...  \n..                                                 ...  \n320      Concurrent and distributed computing in Java.  \n321          qmail - managing unix-based mail systems.  \n322  SQL - pocket guide: a guide to SQL usage: Orac...  \n323  Digital design and implementation with field p...  \n324  .NET compact framework - pocket guide: up and ...  \n\n[200 rows x 3 columns]",
      "text/html": "<div>\n<style scoped>\n    .dataframe tbody tr th:only-of-type {\n        vertical-align: middle;\n    }\n\n    .dataframe tbody tr th {\n        vertical-align: top;\n    }\n\n    .dataframe thead th {\n        text-align: right;\n    }\n</style>\n<table border=\"1\" class=\"dataframe\">\n  <thead>\n    <tr style=\"text-align: right;\">\n      <th></th>\n      <th>#PUBLICATION_ID</th>\n      <th>TITLE_LENGTH</th>\n      <th>TITLE</th>\n    </tr>\n  </thead>\n  <tbody>\n    <tr>\n      <th>0</th>\n      <td>books/acm/17/JamesLSCO17</td>\n      <td>52</td>\n      <td>Perspectives on learning with multimodal techn...</td>\n    </tr>\n    <tr>\n      <th>2</th>\n      <td>books/acm/17/MacLeanSS17</td>\n      <td>79</td>\n      <td>Multisensory haptic interactions: understandin...</td>\n    </tr>\n    <tr>\n      <th>4</th>\n      <td>books/acm/18/0001A18</td>\n      <td>95</td>\n      <td>Real-time sensing of affect and social signals...</td>\n    </tr>\n    <tr>\n      <th>7</th>\n      <td>books/acm/19/KirchnerFK19</td>\n      <td>99</td>\n      <td>Embedded multimodal interfaces in robotics: ap...</td>\n    </tr>\n    <tr>\n      <th>8</th>\n      <td>books/acm/19/Lamport19a</td>\n      <td>60</td>\n      <td>A new solution of Dijkstra's concurrent progra...</td>\n    </tr>\n    <tr>\n      <th>...</th>\n      <td>...</td>\n      <td>...</td>\n      <td>...</td>\n    </tr>\n    <tr>\n      <th>320</th>\n      <td>books/daglib/0010661</td>\n      <td>45</td>\n      <td>Concurrent and distributed computing in Java.</td>\n    </tr>\n    <tr>\n      <th>321</th>\n      <td>books/daglib/0010681</td>\n      <td>41</td>\n      <td>qmail - managing unix-based mail systems.</td>\n    </tr>\n    <tr>\n      <th>322</th>\n      <td>books/daglib/0010682</td>\n      <td>76</td>\n      <td>SQL - pocket guide: a guide to SQL usage: Orac...</td>\n    </tr>\n    <tr>\n      <th>323</th>\n      <td>books/daglib/0010865</td>\n      <td>66</td>\n      <td>Digital design and implementation with field p...</td>\n    </tr>\n    <tr>\n      <th>324</th>\n      <td>books/daglib/0010893</td>\n      <td>84</td>\n      <td>.NET compact framework - pocket guide: up and ...</td>\n    </tr>\n  </tbody>\n</table>\n<p>200 rows × 3 columns</p>\n</div>"
     },
     "execution_count": 27,
     "metadata": {},
     "output_type": "execute_result"
    }
   ],
   "source": [
    "within_range[(within_range['TITLE_LENGTH']>40) & (within_range['TITLE_LENGTH']<100)].head(200)"
   ],
   "metadata": {
    "collapsed": false,
    "ExecuteTime": {
     "start_time": "2023-05-02T16:59:49.124281Z",
     "end_time": "2023-05-02T16:59:49.208956Z"
    }
   }
  },
  {
   "cell_type": "markdown",
   "source": [
    "Another thing we noticed is that there is a gap in the bell curve where X = 70."
   ],
   "metadata": {
    "collapsed": false
   }
  },
  {
   "cell_type": "code",
   "execution_count": 28,
   "outputs": [],
   "source": [
    "l = within_range['TITLE_LENGTH'].unique()"
   ],
   "metadata": {
    "collapsed": false,
    "ExecuteTime": {
     "start_time": "2023-05-02T16:59:49.179393Z",
     "end_time": "2023-05-02T16:59:49.208956Z"
    }
   }
  },
  {
   "cell_type": "code",
   "execution_count": 29,
   "outputs": [
    {
     "name": "stdout",
     "output_type": "stream",
     "text": [
      "not in the list 70\n"
     ]
    }
   ],
   "source": [
    "for i in range(8, len(l)):\n",
    "    if i not in l:\n",
    "        print(\"not in the list {}\".format(i))"
   ],
   "metadata": {
    "collapsed": false,
    "ExecuteTime": {
     "start_time": "2023-05-02T16:59:49.188339Z",
     "end_time": "2023-05-02T16:59:49.208956Z"
    }
   }
  },
  {
   "cell_type": "markdown",
   "source": [
    "Indeed, there is no title of the length 70. It's strange and it potentially affects the average in a minor way making it smaller."
   ],
   "metadata": {
    "collapsed": false
   }
  }
 ],
 "metadata": {
  "kernelspec": {
   "display_name": "Python 3",
   "language": "python",
   "name": "python3"
  },
  "language_info": {
   "codemirror_mode": {
    "name": "ipython",
    "version": 2
   },
   "file_extension": ".py",
   "mimetype": "text/x-python",
   "name": "python",
   "nbconvert_exporter": "python",
   "pygments_lexer": "ipython2",
   "version": "2.7.6"
  }
 },
 "nbformat": 4,
 "nbformat_minor": 0
}
